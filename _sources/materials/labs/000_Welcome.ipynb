{
 "cells": [
  {
   "attachments": {},
   "cell_type": "markdown",
   "id": "d2dc1eaf",
   "metadata": {},
   "source": [
    "# 000 The COM6018 labs classes\n",
    "\n",
    "> COM6108"
   ]
  },
  {
   "attachments": {},
   "cell_type": "markdown",
   "id": "58dbf136",
   "metadata": {},
   "source": [
    "*Copyright &copy; Jon Barker, 2023 University of Sheffield. All rights reserved*."
   ]
  },
  {
   "attachments": {},
   "cell_type": "markdown",
   "id": "ab5054ef",
   "metadata": {},
   "source": [
    "## Introduction\n",
    "\n",
    "For the COM6018 lab classes, we will be using `Python Jupyter notebooks`.\n",
    "\n",
    "Each week, shortly before the lab class session, a new notebook will appear in the module GitHub site. The notebooks will be designed to teach you how to apply the ideas that we have been discussing in the lecture sessions. They build up slowly starting with an introduction to Python and then incrementally introducing more specialist Python module and data science techniques. Through completing the notebooks you will also be developing code that you can re-use for completing the module's assignments.\n",
    "\n",
    "Note, although you can completely the lab materials in your own time, it is **strongly** recommended that you attend the lab classes. The lab sessions will be staffed by PhD demonstrators and the module leader, and will provide an opportunity to ask questions about both the lab and lecture content. COM6018 is a very practically-orientated module and provides skills that underpin all other modules in the Data Analytics MSc. It is therefore important that you use the lab classes as an opportunity to improve your skills and to get feedback.\n",
    "\n"
   ]
  },
  {
   "attachments": {},
   "cell_type": "markdown",
   "id": "1b754223",
   "metadata": {},
   "source": [
    "## Some useful resources\n",
    "\n",
    "* Documentation for the Jupyter notebook https://jupyter-notebook.readthedocs.io/en/stable/notebook.html\n",
    "\n",
    "* Installing Python on your laptop https://realpython.com/installing-python/\n"
   ]
  }
 ],
 "metadata": {
  "jupytext": {
   "formats": "ipynb,py:percent"
  },
  "kernelspec": {
   "display_name": "python3",
   "language": "python",
   "name": "python3"
  }
 },
 "nbformat": 4,
 "nbformat_minor": 5
}
