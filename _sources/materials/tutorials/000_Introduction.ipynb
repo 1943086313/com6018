{
 "cells": [
  {
   "cell_type": "markdown",
   "id": "ccf93071",
   "metadata": {},
   "source": [
    "# 000 Introduction\n",
    "\n",
    "> COM6018\n",
    "\n",
    "*Copyright &copy; 2023 Jon Barker, University of Sheffield. All rights reserved*.\n",
    "\n",
    "## 1 Introduction"
   ]
  }
 ],
 "metadata": {
  "jupytext": {
   "cell_metadata_filter": "-all"
  },
  "kernelspec": {
   "display_name": "Python 3 (ipykernel)",
   "language": "python",
   "name": "python3"
  },
  "language_info": {
   "codemirror_mode": {
    "name": "ipython",
    "version": 3
   },
   "file_extension": ".py",
   "mimetype": "text/x-python",
   "name": "python",
   "nbconvert_exporter": "python",
   "pygments_lexer": "ipython3",
   "version": "3.11.3"
  }
 },
 "nbformat": 4,
 "nbformat_minor": 5
}
